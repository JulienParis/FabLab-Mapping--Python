{
 "metadata": {
  "name": ""
 },
 "nbformat": 3,
 "nbformat_minor": 0,
 "worksheets": [
  {
   "cells": [
    {
     "cell_type": "heading",
     "level": 1,
     "metadata": {},
     "source": [
      "Getting a list of FabLabs, with details, from fablabs.io"
     ]
    },
    {
     "cell_type": "markdown",
     "metadata": {},
     "source": [
      "Requisites:\n",
      "\n",
      "1. pip install requests\n",
      "2. pip install pycountry\n",
      "3. pip install incf.countryutils"
     ]
    },
    {
     "cell_type": "code",
     "collapsed": false,
     "input": [
      "import requests\n",
      "from collections import OrderedDict\n",
      "import pycountry\n",
      "from incf.countryutils import transformations"
     ],
     "language": "python",
     "metadata": {},
     "outputs": [],
     "prompt_number": "*"
    },
    {
     "cell_type": "code",
     "collapsed": false,
     "input": [
      "# Load FabLab list\n",
      "url = \"https://api.fablabs.io/v0/labs.json\"\n",
      "fablab_list = requests.get(url).json()"
     ],
     "language": "python",
     "metadata": {},
     "outputs": [],
     "prompt_number": "*"
    },
    {
     "cell_type": "code",
     "collapsed": false,
     "input": [
      "# Print a beautified version of the FabLab list for debug\n",
      "# print json.dumps(fablab_list, sort_keys=True, indent=4)"
     ],
     "language": "python",
     "metadata": {},
     "outputs": [],
     "prompt_number": "*"
    },
    {
     "cell_type": "code",
     "collapsed": false,
     "input": [
      "labs = {}\n",
      "print \"There are\",len(fablab_list[\"labs\"]),\"FabLabs.\""
     ],
     "language": "python",
     "metadata": {},
     "outputs": [],
     "prompt_number": "*"
    },
    {
     "cell_type": "code",
     "collapsed": false,
     "input": [
      "#\u00a0Load data for reordering by continent - country later\n",
      "groupedlabs = {}\n",
      "\n",
      "for i in fablab_list[\"labs\"]:\n",
      "    labs[i[\"name\"]] = {}\n",
      "    labs[i[\"name\"]][\"name\"] = i[\"name\"]\n",
      "    labs[i[\"name\"]][\"city\"] = i[\"city\"]\n",
      "    country = pycountry.countries.get(alpha2=i[\"country_code\"].upper())\n",
      "    labs[i[\"name\"]][\"country\"] = country.name\n",
      "    continent = transformations.cca_to_ctn(i[\"country_code\"])\n",
      "    labs[i[\"name\"]][\"continent\"] = continent\n",
      "    \n",
      "    # Save by continent and country\n",
      "    if continent not in groupedlabs:\n",
      "        groupedlabs[continent] = {}\n",
      "    if country.name not in groupedlabs[continent]:\n",
      "        groupedlabs[continent][country.name] = {}\n",
      "    groupedlabs[continent][country.name][i[\"name\"]] = labs[i[\"name\"]]\n",
      "        "
     ],
     "language": "python",
     "metadata": {},
     "outputs": [],
     "prompt_number": "*"
    },
    {
     "cell_type": "code",
     "collapsed": false,
     "input": [
      "# Order alphabetically\n",
      "\n",
      "# Get list from continents and countries in the data\n",
      "continents = []\n",
      "countries = []\n",
      "for m in groupedlabs:\n",
      "    continents.append(m)\n",
      "    for j in groupedlabs[m]:\n",
      "        countries.append(j)  \n",
      "continents = sorted(continents)\n",
      "countries = sorted(countries)\n",
      "\n",
      "# Order continents and countries alphabetically\n",
      "sortedcontinents = OrderedDict(sorted(groupedlabs.items(), key=lambda t: t[0]))\n",
      "for k in sortedcontinents:\n",
      "    sortedcontinents[k] = OrderedDict(sorted(sortedcontinents[k].items(), key=lambda t: t[0]))\n",
      "\n",
      "# Print output for debug\n",
      "for k in sortedcontinents:\n",
      "    print \"\"\n",
      "    print k\n",
      "    for h in sortedcontinents[k]:\n",
      "        print \"-\",h"
     ],
     "language": "python",
     "metadata": {},
     "outputs": [],
     "prompt_number": "*"
    },
    {
     "cell_type": "code",
     "collapsed": false,
     "input": [
      "#\u00a0Let's start the graphics\n",
      "%matplotlib inline\n",
      "%pylab inline\n",
      "\n",
      "import matplotlib.pyplot as plt\n",
      "import seaborn"
     ],
     "language": "python",
     "metadata": {},
     "outputs": [],
     "prompt_number": "*"
    },
    {
     "cell_type": "code",
     "collapsed": false,
     "input": [
      "# Get distribution of FabLabs per continent\n",
      "\n",
      "continents_stats = {}\n",
      "\n",
      "for k in sortedcontinents:\n",
      "    continents_stats[k] =  len(sortedcontinents[k])\n",
      "\n",
      "continents_stats2 = OrderedDict(sorted(continents_stats.items(), key=lambda t: t[1]))    \n",
      "    \n",
      "plt.bar(range(len(continents_stats2)), continents_stats2.values(), align='center')\n",
      "plt.xticks(range(len(continents_stats2)), continents_stats2.keys(), rotation=90)\n",
      "plt.title(\"Distribution of FabLabs by continent\")\n",
      "\n",
      "plt.savefig('FabLabs-ContinentDistribution.pdf')"
     ],
     "language": "python",
     "metadata": {},
     "outputs": [],
     "prompt_number": "*"
    },
    {
     "cell_type": "code",
     "collapsed": false,
     "input": [
      "# Get distribution of FabLabs per country\n",
      "\n",
      "countries_stats = {}\n",
      "\n",
      "for k in sortedcontinents:\n",
      "    for h in sortedcontinents[k]:\n",
      "        countries_stats[h] =  len(sortedcontinents[k][h])\n",
      "        \n",
      "countries_stats2 = OrderedDict(sorted(countries_stats.items(), key=lambda t: t[1]))\n",
      "\n",
      "figure(figsize=(20,8))\n",
      "plt.bar(range(len(countries_stats2)), countries_stats2.values(), align='center')\n",
      "plt.xticks(range(len(countries_stats2)), countries_stats2.keys(), rotation=90)\n",
      "plt.title(\"Distribution of FabLabs by country\")\n",
      "\n",
      "plt.savefig('FabLabs-CountryDistribution.pdf')"
     ],
     "language": "python",
     "metadata": {},
     "outputs": [],
     "prompt_number": "*"
    },
    {
     "cell_type": "code",
     "collapsed": false,
     "input": [],
     "language": "python",
     "metadata": {},
     "outputs": [],
     "prompt_number": "*"
    }
   ],
   "metadata": {}
  }
 ]
}